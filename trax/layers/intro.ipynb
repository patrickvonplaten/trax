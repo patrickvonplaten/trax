{
  "cells": [
    {
      "cell_type": "markdown",
      "metadata": {
        "colab_type": "text",
        "id": "7yuytuIllsv1"
      },
      "source": [
        "# A Conceptual, Practical Introduction to Trax Layers\n",
        "\n",
        "This notebook introduces the core concepts of the Trax library through a series of code samples and explanations. The topics covered in following sections are:\n",
        "\n",
        "  1. **Layers**: the basic building blocks and how to combine them into networks\n",
        "  1. **Data Streams**: how individual layers manage inputs and outputs\n",
        "  1. **Data Stack**: how the Trax runtime manages data streams for the layers\n",
        "  1. **Defining New Layer Classes**: how to define and test your own layer classes\n",
        "  1. **Models**: how to train, evaluate, and run predictions with Trax models\n",
        "\n",
        "\n"
      ]
    },
    {
      "cell_type": "markdown",
      "metadata": {
        "colab_type": "text",
        "id": "BIl27504La0G"
      },
      "source": [
        "## General Setup\n",
        "Execute the following few cells (once) before running any of the code samples in this notebook."
      ]
    },
    {
      "cell_type": "code",
      "execution_count": 0,
      "metadata": {
        "colab": {},
        "colab_type": "code",
        "id": "oILRLCWN_16u"
      },
      "outputs": [],
      "source": [
        "# Copyright 2018 Google LLC.\n",
        "\n",
        "# Licensed under the Apache License, Version 2.0 (the \"License\");\n",
        "# you may not use this file except in compliance with the License.\n",
        "# You may obtain a copy of the License at\n",
        "\n",
        "# https://www.apache.org/licenses/LICENSE-2.0\n",
        "\n",
        "# Unless required by applicable law or agreed to in writing, software\n",
        "# distributed under the License is distributed on an \"AS IS\" BASIS,\n",
        "# WITHOUT WARRANTIES OR CONDITIONS OF ANY KIND, either express or implied.\n",
        "# See the License for the specific language governing permissions and\n",
        "# limitations under the License.\n",
        "\n",
        "import numpy as np\n",
        "\n",
        "\n"
      ]
    },
    {
      "cell_type": "code",
      "execution_count": 0,
      "metadata": {
        "cellView": "both",
        "colab": {
          "height": 51
        },
        "colab_type": "code",
        "executionInfo": {
          "elapsed": 444,
          "status": "ok",
          "timestamp": 1588016481193,
          "user": {
            "displayName": "",
            "photoUrl": "",
            "userId": ""
          },
          "user_tz": 420
        },
        "id": "vlGjGoGMTt-D",
        "outputId": "76b95a37-3f1b-4748-bef0-646858f33e25"
      },
      "outputs": [
        {
          "name": "stdout",
          "output_type": "stream",
          "text": [
            "/bin/sh: pip: command not found\n",
            "/bin/sh: pip: command not found\n"
          ]
        }
      ],
      "source": [
        "# Import Trax\n",
        "\n",
        "! pip install -q -U trax\n",
        "! pip install -q tensorflow\n",
        "\n",
        "from trax import fastmath\n",
        "from trax import layers as tl\n",
        "from trax import shapes\n",
        "from trax.fastmath import numpy as jnp  # For use in defining new layer types.\n",
        "from trax.shapes import ShapeDtype\n",
        "from trax.shapes import signature"
      ]
    },
    {
      "cell_type": "code",
      "execution_count": 0,
      "metadata": {
        "colab": {},
        "colab_type": "code",
        "id": "bYWNWL9MJHv9"
      },
      "outputs": [],
      "source": [
        "# Settings and utilities for handling inputs, outputs, and object properties.\n",
        "\n",
        "np.set_printoptions(precision=3)  # Reduce visual noise from extra digits.\n",
        "\n",
        "def show_layer_properties(layer_obj, layer_name):\n",
        "  template = ('{}.n_in:  {}\\n'\n",
        "              '{}.n_out: {}\\n'\n",
        "              '{}.sublayers: {}\\n'\n",
        "              '{}.weights:    {}\\n')\n",
        "  print(template.format(layer_name, layer_obj.n_in,\n",
        "                        layer_name, layer_obj.n_out,\n",
        "                        layer_name, layer_obj.sublayers,\n",
        "                        layer_name, layer_obj.weights))"
      ]
    },
    {
      "cell_type": "markdown",
      "metadata": {
        "colab_type": "text",
        "id": "-LQ89rFFsEdk"
      },
      "source": [
        "# 1. Layers\n",
        "\n",
        "The Layer class represents Trax's basic building blocks:\n",
        "```\n",
        "class Layer(object):\n",
        "  \"\"\"Base class for composable layers in a deep learning network.\n",
        "\n",
        "  Layers are the basic building blocks for deep learning models. A Trax layer\n",
        "  computes a function from zero or more inputs to zero or more outputs,\n",
        "  optionally using trainable weights (common) and non-parameter state (not\n",
        "  common). Authors of new layer subclasses typically override at most two\n",
        "  methods of the base `Layer` class:\n",
        "\n",
        "    forward(inputs):\n",
        "      Computes this layer's output as part of a forward pass through the model.\n",
        "\n",
        "    init_weights_and_state(self, input_signature):\n",
        "      Initializes weights and state for inputs with the given signature.\n",
        "\n",
        "  ...\n",
        "```"
      ]
    },
    {
      "cell_type": "markdown",
      "metadata": {
        "colab_type": "text",
        "id": "LyLVtdxorDPO"
      },
      "source": [
        "## Layers compute functions."
      ]
    },
    {
      "cell_type": "markdown",
      "metadata": {
        "colab_type": "text",
        "id": "ntZ4_eNQldzL"
      },
      "source": [
        "A layer computes a function from zero or more inputs to zero or more outputs.\n",
        "The inputs and outputs are NumPy arrays or JAX objects behaving as NumPy arrays.\n",
        "\n",
        "The simplest layers, those with no weights or sublayers, can be used without\n",
        "initialization. You can think of them as (pure) mathematical functions that can\n",
        "be plugged into neural networks.\n",
        "\n",
        "For ease of testing and interactive exploration, layer objects implement the\n",
        "`__call__ ` method, so you can call them directly on input data:\n",
        "```\n",
        "y = my_layer(x)\n",
        "```\n",
        "\n",
        "Layers are also objects, so you can inspect their properties. For example:\n",
        "```\n",
        "print(f'Number of inputs expected by this layer: {my_layer.n_in}')\n",
        "```"
      ]
    },
    {
      "cell_type": "markdown",
      "metadata": {
        "colab_type": "text",
        "id": "hCoapc5le8B7"
      },
      "source": [
        "### Example 1. tl.Relu $[n_{in} = 1, n_{out} = 1]$"
      ]
    },
    {
      "cell_type": "code",
      "execution_count": 0,
      "metadata": {
        "colab": {
          "height": 224
        },
        "colab_type": "code",
        "executionInfo": {
          "elapsed": 400,
          "status": "ok",
          "timestamp": 1588016481933,
          "user": {
            "displayName": "",
            "photoUrl": "",
            "userId": ""
          },
          "user_tz": 420
        },
        "id": "V09viOSEQvQe",
        "outputId": "a0134cee-0db8-4396-825e-93e695a42ca5"
      },
      "outputs": [
        {
          "name": "stdout",
          "output_type": "stream",
          "text": [
            "x:\n",
            "[[ -2  -1   0   1   2]\n",
            " [-20 -10   0  10  20]]\n",
            "\n",
            "relu(x):\n",
            "[[ 0  0  0  1  2]\n",
            " [ 0  0  0 10 20]]\n",
            "\n",
            "Number of inputs expected by this layer: 1\n",
            "Number of outputs promised by this layer: 1\n"
          ]
        }
      ],
      "source": [
        "relu = tl.Relu()\n",
        "\n",
        "x = np.array([[-2, -1, 0, 1, 2],\n",
        "              [-20, -10, 0, 10, 20]])\n",
        "y = relu(x)\n",
        "\n",
        "# Show input, output, and two layer properties.\n",
        "print(f'x:\\n{x}\\n\\n'\n",
        "      f'relu(x):\\n{y}\\n\\n'\n",
        "      f'Number of inputs expected by this layer: {relu.n_in}\\n'\n",
        "      f'Number of outputs promised by this layer: {relu.n_out}')"
      ]
    },
    {
      "cell_type": "markdown",
      "metadata": {
        "colab_type": "text",
        "id": "7sYxIT8crFVE"
      },
      "source": [
        "### Example 2. tl.Concatenate $[n_{in} = 2, n_{out} = 1]$"
      ]
    },
    {
      "cell_type": "code",
      "execution_count": 0,
      "metadata": {
        "colab": {
          "height": 255
        },
        "colab_type": "code",
        "executionInfo": {
          "elapsed": 325,
          "status": "ok",
          "timestamp": 1588016482287,
          "user": {
            "displayName": "",
            "photoUrl": "",
            "userId": ""
          },
          "user_tz": 420
        },
        "id": "LMPPNWXLoOZI",
        "outputId": "42f595b1-4014-429a-a0b3-2c12d630cd32"
      },
      "outputs": [
        {
          "name": "stdout",
          "output_type": "stream",
          "text": [
            "x0:\n",
            "[[1 2 3]\n",
            " [4 5 6]]\n",
            "\n",
            "x1:\n",
            "[[10 20 30]\n",
            " [40 50 60]]\n",
            "\n",
            "concat([x1, x2]):\n",
            "[[ 1  2  3 10 20 30]\n",
            " [ 4  5  6 40 50 60]]\n",
            "\n",
            "Number of inputs expected by this layer: 2\n",
            "Number of outputs promised by this layer: 1\n"
          ]
        }
      ],
      "source": [
        "concat = tl.Concatenate()\n",
        "\n",
        "x0 = np.array([[1, 2, 3],\n",
        "               [4, 5, 6]])\n",
        "x1 = np.array([[10, 20, 30],\n",
        "               [40, 50, 60]])\n",
        "y = concat([x0, x1])\n",
        "\n",
        "print(f'x0:\\n{x0}\\n\\n'\n",
        "      f'x1:\\n{x1}\\n\\n'\n",
        "      f'concat([x1, x2]):\\n{y}\\n\\n'\n",
        "      f'Number of inputs expected by this layer: {concat.n_in}\\n'\n",
        "      f'Number of outputs promised by this layer: {concat.n_out}')"
      ]
    },
    {
      "cell_type": "markdown",
      "metadata": {
        "colab_type": "text",
        "id": "z7N1qe91eYyM"
      },
      "source": [
        "## Layers are configurable.\n",
        "\n",
        "Many layer types have creation-time parameters for flexibility. The \n",
        "`Concatenate` layer type, for instance, has two optional parameters:\n",
        "*   `axis`: index of axis along which to concatenate the tensors; default value of -1 means to use the last axis.\n",
        "*   `n_items`: number of tensors to join into one by concatenation; default value is 2.\n",
        "\n",
        "The following example shows `Concatenate` configured for **3** input tensors,\n",
        "and concatenation along the initial $(0^{th})$ axis."
      ]
    },
    {
      "cell_type": "markdown",
      "metadata": {
        "colab_type": "text",
        "id": "l53Jw23pZ4s6"
      },
      "source": [
        "### Example 3. tl.Concatenate(n_items=3, axis=0)"
      ]
    },
    {
      "cell_type": "code",
      "execution_count": 0,
      "metadata": {
        "colab": {
          "height": 340
        },
        "colab_type": "code",
        "executionInfo": {
          "elapsed": 342,
          "status": "ok",
          "timestamp": 1588016482644,
          "user": {
            "displayName": "",
            "photoUrl": "",
            "userId": ""
          },
          "user_tz": 420
        },
        "id": "bhhWlVLffZtf",
        "outputId": "5a8afaa1-66c8-47fe-abcc-e7cfa33bb28c"
      },
      "outputs": [
        {
          "name": "stdout",
          "output_type": "stream",
          "text": [
            "x0:\n",
            "[[1 2 3]\n",
            " [4 5 6]]\n",
            "\n",
            "x1:\n",
            "[[10 20 30]\n",
            " [40 50 60]]\n",
            "\n",
            "x2:\n",
            "[[100 200 300]\n",
            " [400 500 600]]\n",
            "\n",
            "concat3([x0, x1, x2]):\n",
            "[[  1   2   3]\n",
            " [  4   5   6]\n",
            " [ 10  20  30]\n",
            " [ 40  50  60]\n",
            " [100 200 300]\n",
            " [400 500 600]]\n"
          ]
        }
      ],
      "source": [
        "concat3 = tl.Concatenate(n_items=3, axis=0)\n",
        "\n",
        "x0 = np.array([[1, 2, 3],\n",
        "               [4, 5, 6]])\n",
        "x1 = np.array([[10, 20, 30],\n",
        "               [40, 50, 60]])\n",
        "x2 = np.array([[100, 200, 300],\n",
        "               [400, 500, 600]])\n",
        "\n",
        "y = concat3([x0, x1, x2])\n",
        "\n",
        "print(f'x0:\\n{x0}\\n\\n'\n",
        "      f'x1:\\n{x1}\\n\\n'\n",
        "      f'x2:\\n{x2}\\n\\n'\n",
        "      f'concat3([x0, x1, x2]):\\n{y}')"
      ]
    },
    {
      "cell_type": "markdown",
      "metadata": {
        "colab_type": "text",
        "id": "1oZv3R8bRMvF"
      },
      "source": [
        "## Layers are trainable.\n",
        "\n",
        "Many layer types include weights that affect the computation of outputs from\n",
        "inputs, and they use back-progagated gradients to update those weights.\n",
        "\n",
        "🚧🚧 *A very small subset of layer types, such as `BatchNorm`, also include\n",
        "weights (called `state`) that are updated based on forward-pass\n",
        "inputs/computation rather than back-propagated gradients.*"
      ]
    },
    {
      "cell_type": "markdown",
      "metadata": {
        "colab_type": "text",
        "id": "3d64M7wLryji"
      },
      "source": [
        "### Initialization\n",
        "\n",
        "Trainable layers must be initialized before use. Trax can take care of this\n",
        "as part of the overall training process. In other settings (e.g., in tests or\n",
        "interactively in a Colab notebook), you need to initialize the\n",
        "*outermost/topmost* layer explicitly. For this, use `init`:\n",
        "\n",
        "```\n",
        "  def init(self, input_signature, rng=None):\n",
        "    \"\"\"Initializes this layer and its sublayers recursively.\n",
        "\n",
        "    This method is designed to initialize each layer instance once, even if the\n",
        "    same layer instance occurs in multiple places in the network. This enables\n",
        "    weight sharing to be implemented as layer sharing.\n",
        "\n",
        "    Args:\n",
        "      input_signature: A `ShapeDtype` instance (if this layer takes one input)\n",
        "          or a list/tuple of `ShapeDtype` instances.\n",
        "      rng: A single-use random number generator (JAX PRNG key). If none is\n",
        "          provided, a default rng based on the integer seed 0 will be used.\n",
        "\n",
        "    Returns:\n",
        "      A (weights, state) tuple, in which weights contains newly created weights\n",
        "          on the first call and `EMPTY_WEIGHTS` on all subsequent calls.\n",
        "    \"\"\"\n",
        "```\n",
        "\n",
        "Input signatures can be built from scratch using `ShapeDType` objects, or can\n",
        "be derived from data via the `signature` function (in module `shapes`):\n",
        "```\n",
        "def signature(obj):\n",
        "  \"\"\"Returns a `ShapeDtype` signature for the given `obj`.\n",
        "\n",
        "  A signature is either a `ShapeDtype` instance or a tuple of `ShapeDtype`\n",
        "  instances. Note that this function is permissive with respect to its inputs\n",
        "  (accepts lists or tuples, and underlying objects can be any type as long as\n",
        "  they have shape and dtype attributes), but strict with respect to its outputs\n",
        "  (only `ShapeDtype`, and only tuples).\n",
        "\n",
        "  Args:\n",
        "    obj: An object that has `shape` and `dtype` attributes, or a list/tuple\n",
        "        of such objects.\n",
        "  \"\"\"\n",
        "```"
      ]
    },
    {
      "cell_type": "markdown",
      "metadata": {
        "colab_type": "text",
        "id": "yL8HAj6GEAp1"
      },
      "source": [
        "### Example 4. tl.LayerNorm $[n_{in} = 1, n_{out} = 1]$"
      ]
    },
    {
      "cell_type": "code",
      "execution_count": 0,
      "metadata": {
        "colab": {
          "height": 221
        },
        "colab_type": "code",
        "executionInfo": {
          "elapsed": 553,
          "status": "ok",
          "timestamp": 1588016483214,
          "user": {
            "displayName": "",
            "photoUrl": "",
            "userId": ""
          },
          "user_tz": 420
        },
        "id": "Ie7iyX91qAx2",
        "outputId": "0efecdf5-c0a4-4304-f442-d12fc1a51253"
      },
      "outputs": [
        {
          "name": "stdout",
          "output_type": "stream",
          "text": [
            "x:\n",
            "[[-2. -1.  0.  1.  2.]\n",
            " [ 1.  2.  3.  4.  5.]\n",
            " [10. 20. 30. 40. 50.]]\n",
            "\n",
            "layer_norm(x):\n",
            "[[-1.414 -0.707  0.     0.707  1.414]\n",
            " [-1.414 -0.707  0.     0.707  1.414]\n",
            " [-1.414 -0.707  0.     0.707  1.414]]\n",
            "\n",
            "layer_norm.weights:\n",
            "(DeviceArray([1., 1., 1., 1., 1.], dtype=float32), DeviceArray([0., 0., 0., 0., 0.], dtype=float32))\n"
          ]
        }
      ],
      "source": [
        "layer_norm = tl.LayerNorm()\n",
        "\n",
        "x = np.array([[-2, -1, 0, 1, 2],\n",
        "              [1, 2, 3, 4, 5],\n",
        "              [10, 20, 30, 40, 50]]).astype(np.float32)\n",
        "layer_norm.init(signature(x))\n",
        "\n",
        "y = layer_norm(x)\n",
        "\n",
        "print(f'x:\\n{x}\\n\\n'\n",
        "      f'layer_norm(x):\\n{y}\\n')\n",
        "print(f'layer_norm.weights:\\n{layer_norm.weights}')"
      ]
    },
    {
      "cell_type": "markdown",
      "metadata": {
        "colab_type": "text",
        "id": "d47gVdGV1vWw"
      },
      "source": [
        "## Layers combine into layers.\n",
        "\n",
        "The Trax library authors encourage users to build new layers as combinations of\n",
        "existing layers. Hence, the library provides a small set of _combinator_\n",
        "layers: layer objects that make a list of layers behave as a single layer.\n",
        "\n",
        "The new layer, like other layers, can:\n",
        "* compute outputs from inputs,\n",
        "* update parameters from gradients, and\n",
        "* combine with yet more layers."
      ]
    },
    {
      "cell_type": "markdown",
      "metadata": {
        "colab_type": "text",
        "id": "vC1ymG2j0iyp"
      },
      "source": [
        "### Combine with `Serial`\n",
        "\n",
        "The most common way to combine layers is with the `Serial` class:\n",
        "```\n",
        "class Serial(base.Layer):\n",
        "  \"\"\"Combinator that applies layers serially (by function composition).\n",
        "\n",
        "  A Serial combinator uses stack semantics to manage data for its sublayers.\n",
        "  Each sublayer sees only the inputs it needs and returns only the outputs it\n",
        "  has generated. The sublayers interact via the data stack. For instance, a\n",
        "  sublayer k, following sublayer j, gets called with the data stack in the\n",
        "  state left after layer j has applied. The Serial combinator then:\n",
        "\n",
        "    - takes n_in items off the top of the stack (n_in = k.n_in) and calls\n",
        "      layer k, passing those items as arguments; and\n",
        "\n",
        "    - takes layer k's n_out return values (n_out = k.n_out) and pushes\n",
        "      them onto the data stack.\n",
        "\n",
        "  ...\n",
        "```\n",
        "If one layer has the same number of outputs as the next layer has inputs (which\n",
        "is the usual case), the successive layers behave like function composition:\n",
        "\n",
        "```\n",
        "#  h(.) = g(f(.))\n",
        "layer_h = Serial(\n",
        "    layer_f,\n",
        "    layer_g,\n",
        ")\n",
        "```\n",
        "Note how, inside `Serial`, function composition is expressed naturally as a\n",
        "succession of operations, so that no nested parentheses are needed.\n"
      ]
    },
    {
      "cell_type": "markdown",
      "metadata": {
        "colab_type": "text",
        "id": "uPOnrDa9ViPi"
      },
      "source": [
        "### Example 5. y = layer_norm(relu(x)) $[n_{in} = 1, n_{out} = 1]$"
      ]
    },
    {
      "cell_type": "code",
      "execution_count": 0,
      "metadata": {
        "colab": {
          "height": 136
        },
        "colab_type": "code",
        "executionInfo": {
          "elapsed": 767,
          "status": "ok",
          "timestamp": 1588016484011,
          "user": {
            "displayName": "",
            "photoUrl": "",
            "userId": ""
          },
          "user_tz": 420
        },
        "id": "dW5fpusjvjmh",
        "outputId": "acdcffe7-23d5-4ecd-df9b-32f48ae77959"
      },
      "outputs": [
        {
          "name": "stdout",
          "output_type": "stream",
          "text": [
            "x:\n",
            "[[ -2.  -1.   0.   1.   2.]\n",
            " [-20. -10.   0.  10.  20.]]\n",
            "\n",
            "layer_block(x):\n",
            "[[-0.75 -0.75 -0.75  0.5   1.75]\n",
            " [-0.75 -0.75 -0.75  0.5   1.75]]\n"
          ]
        }
      ],
      "source": [
        "layer_block = tl.Serial(\n",
        "    tl.Relu(),\n",
        "    tl.LayerNorm(),\n",
        ")\n",
        "\n",
        "x = np.array([[-2, -1, 0, 1, 2],\n",
        "              [-20, -10, 0, 10, 20]]).astype(np.float32)\n",
        "layer_block.init(signature(x))\n",
        "y = layer_block(x)\n",
        "\n",
        "print(f'x:\\n{x}\\n\\n'\n",
        "      f'layer_block(x):\\n{y}')"
      ]
    },
    {
      "cell_type": "markdown",
      "metadata": {
        "colab_type": "text",
        "id": "bRtmN6ckQO1q"
      },
      "source": [
        "And we can inspect the block as a whole, as if it were just another layer:\n",
        "\n",
        "### Example 5'. Inspecting a Serial layer."
      ]
    },
    {
      "cell_type": "code",
      "execution_count": 0,
      "metadata": {
        "colab": {
          "height": 68
        },
        "colab_type": "code",
        "executionInfo": {
          "elapsed": 307,
          "status": "ok",
          "timestamp": 1588016484350,
          "user": {
            "displayName": "",
            "photoUrl": "",
            "userId": ""
          },
          "user_tz": 420
        },
        "id": "D6BpYddZQ1eu",
        "outputId": "1a00c9f2-63a0-450c-d902-c9baf06dc917"
      },
      "outputs": [
        {
          "name": "stdout",
          "output_type": "stream",
          "text": [
            "layer_block: Serial[ Relu LayerNorm ]\n",
            "\n",
            "layer_block.weights: [(), (DeviceArray([1., 1., 1., 1., 1.], dtype=float32), DeviceArray([0., 0., 0., 0., 0.], dtype=float32))]\n"
          ]
        }
      ],
      "source": [
        "print(f'layer_block: {layer_block}\\n\\n'\n",
        "      f'layer_block.weights: {layer_block.weights}')"
      ]
    },
    {
      "cell_type": "markdown",
      "metadata": {
        "colab_type": "text",
        "id": "kJ8bpYZtE66x"
      },
      "source": [
        "### Combine with `Branch`\n",
        "The `Branch` combinator arranges layers into parallel computational channels:\n",
        "```\n",
        "def Branch(*layers):\n",
        "  \"\"\"Combinator that applies a list of layers in parallel to copies of inputs.\n",
        "\n",
        "  Each layer in the input list is applied to as many inputs from the stack\n",
        "  as it needs, and their outputs are successively combined on stack.\n",
        "\n",
        "  For example, suppose one has three layers:\n",
        "\n",
        "    - F: 1 input, 1 output\n",
        "    - G: 3 inputs, 1 output\n",
        "    - H: 2 inputs, 2 outputs (h1, h2)\n",
        "\n",
        "  Then Branch(F, G, H) will take 3 inputs and give 4 outputs:\n",
        "\n",
        "    - inputs: a, b, c\n",
        "    - outputs: F(a), G(a, b, c), h1, h2    where h1, h2 = H(a, b)\n",
        "```"
      ]
    },
    {
      "cell_type": "markdown",
      "metadata": {
        "colab_type": "text",
        "id": "RlPcnRtdIVgq"
      },
      "source": [
        "Residual blocks, for example, are implemented using `Branch`:\n",
        "```\n",
        "def Residual(*layers, **kwargs):\n",
        "  \"\"\"Wraps a series of layers with a residual connection.\n",
        "\n",
        "  Args:\n",
        "    *layers: One or more layers, to be applied in series.\n",
        "    **kwargs: If empty (the usual case), the Residual layer computes the\n",
        "        element-wise sum of the stack-top input with the output of the layer\n",
        "        series. If non-empty, the only key should be 'shortcut', whose value is\n",
        "        a layer that applies to a copy of the inputs and (elementwise) adds its\n",
        "        output to the output from the main layer series.\n",
        "\n",
        "  Returns:\n",
        "      A layer representing a residual connection paired with a layer series.\n",
        "  \"\"\"\n",
        "  shortcut = kwargs.get('shortcut')  # default None signals no-op (copy inputs)\n",
        "  layers = _ensure_flat(layers)\n",
        "  layer = layers[0] if len(layers) == 1 else Serial(layers)\n",
        "  return Serial(\n",
        "      Branch(shortcut, layer),\n",
        "      Add(),  # pylint: disable=no-value-for-parameter\n",
        "  )\n",
        "```"
      ]
    },
    {
      "cell_type": "markdown",
      "metadata": {
        "colab_type": "text",
        "id": "ruX4aFMdUOwS"
      },
      "source": [
        "Here's a simple code example to highlight the mechanics."
      ]
    },
    {
      "cell_type": "markdown",
      "metadata": {
        "colab_type": "text",
        "id": "JGGnKjg4ESIg"
      },
      "source": [
        "### Example 6. Branch"
      ]
    },
    {
      "cell_type": "code",
      "execution_count": 0,
      "metadata": {
        "colab": {
          "height": 204
        },
        "colab_type": "code",
        "executionInfo": {
          "elapsed": 313,
          "status": "ok",
          "timestamp": 1588016484680,
          "user": {
            "displayName": "",
            "photoUrl": "",
            "userId": ""
          },
          "user_tz": 420
        },
        "id": "lw6A2YwuW-Ul",
        "outputId": "a07ef350-bafa-4fa7-a083-19e6f725b3ce"
      },
      "outputs": [
        {
          "name": "stdout",
          "output_type": "stream",
          "text": [
            "x:\n",
            "[[ -2  -1   0   1   2]\n",
            " [-20 -10   0  10  20]]\n",
            "\n",
            "y0:\n",
            "[[ 0  0  0  1  2]\n",
            " [ 0  0  0 10 20]]\n",
            "\n",
            "y1:\n",
            "[[ -200.  -100.     0.   100.   200.]\n",
            " [-2000. -1000.     0.  1000.  2000.]]\n"
          ]
        }
      ],
      "source": [
        "relu = tl.Relu()\n",
        "times_100 = tl.Fn(\"Times100\", lambda x: x * 100.0)\n",
        "branch_relu_t100 = tl.Branch(relu, times_100)\n",
        "\n",
        "x = np.array([[-2, -1, 0, 1, 2],\n",
        "              [-20, -10, 0, 10, 20]])\n",
        "branch_relu_t100.init(signature(x))\n",
        "\n",
        "y0, y1 = branch_relu_t100(x)\n",
        "\n",
        "print(f'x:\\n{x}\\n\\n'\n",
        "      f'y0:\\n{y0}\\n\\n'\n",
        "      f'y1:\\n{y1}')"
      ]
    },
    {
      "cell_type": "markdown",
      "metadata": {
        "colab_type": "text",
        "id": "zr2ZZ1vO8T8V"
      },
      "source": [
        "# 2. Data Streams\n",
        "\n",
        "The Trax runtime supports the concept of multiple data streams, which gives\n",
        "individual layers flexibility to:\n",
        "  - process a single data stream ($n_{in} = n_{out} = 1$),\n",
        "  - process multiple parallel data streams ($n_{in} = n_{out} = 2, 3, ... $),\n",
        "  - split or inject data streams ($n_{in} \u003c n_{out}$), or\n",
        "  - merge or remove data streams ($n_{in} \u003e n_{out}$).\n",
        "\n",
        "We saw in section 1 the example of `Residual`, which involves both a split and a merge:\n",
        "```\n",
        "  ...\n",
        "  return Serial(\n",
        "      Branch(shortcut, layer),\n",
        "      Add(),\n",
        "  )\n",
        "```\n",
        "In other words, layer by layer:\n",
        "  - `Branch(shortcut, layers)`: makes two copies of the single incoming data stream, passes one copy via the shortcut (typically a no-op), and processes the other copy via the given layers, applied in series. [$n_{in} = 1$, $n_{out} = 2$]\n",
        "  - `Add()`: combines the two streams back into one by adding elementwise. [$n_{in} = 2$, $n_{out} = 1$]"
      ]
    },
    {
      "cell_type": "markdown",
      "metadata": {
        "colab_type": "text",
        "id": "QQVo6vhPgO9x"
      },
      "source": [
        "# 3. Data Stack"
      ]
    },
    {
      "cell_type": "markdown",
      "metadata": {
        "colab_type": "text",
        "id": "65ite-671cTT"
      },
      "source": [
        "# 4. Defining New Layer Classes"
      ]
    },
    {
      "cell_type": "markdown",
      "metadata": {
        "colab_type": "text",
        "id": "hHSaD9H6hDTf"
      },
      "source": [
        "## Simpler layers, with the `Fn` layer-creating function.\n",
        "\n",
        "Many layer types needed in deep learning compute pure functions from inputs to\n",
        "outputs, using neither weights nor randomness. You can use Trax's `Fn` function\n",
        "to define your own pure layer types:\n",
        "```\n",
        "  \"\"\"Returns a layer with no weights that applies the function f.\n",
        "\n",
        "  `f` can take and return any number of arguments, and takes only positional\n",
        "  arguments -- no default or keyword arguments. It often uses JAX-numpy (jnp).\n",
        "  The following, for example, would create a layer that takes two inputs and\n",
        "  returns two outputs -- element-wise sums and maxima:\n",
        "\n",
        "      Fn('SumAndMax', lambda x0, x1: (x0 + x1, jnp.maximum(x0, x1)), n_out=2)\n",
        "\n",
        "  The layer's number of inputs (`n_in`) is automatically set to number of\n",
        "  positional arguments in `f`, but you must set the number of outputs (`n_out`)\n",
        "  explicitly whenever it's not the default value 1.\n",
        "\n",
        "  Args:\n",
        "    name: Class-like name for the resulting layer; for use in debugging.\n",
        "    f: Pure function from input tensors to output tensors, where each input\n",
        "        tensor is a separate positional arg, e.g.:\n",
        "            f(x0, x1) --\u003e x0 + x1\n",
        "        Output tensors must be packaged as specified for `Layer.forward`.\n",
        "    n_out: Number of outputs promised by the layer; default value 1.\n",
        "\n",
        "  Returns:\n",
        "    Layer executing the function f.\n",
        "  \"\"\"\n",
        "```"
      ]
    },
    {
      "cell_type": "markdown",
      "metadata": {
        "colab_type": "text",
        "id": "TX30lGLXcjB1"
      },
      "source": [
        "### Example 7. Use `Fn` to define a new layer type:"
      ]
    },
    {
      "cell_type": "code",
      "execution_count": 0,
      "metadata": {
        "colab": {
          "height": 153
        },
        "colab_type": "code",
        "executionInfo": {
          "elapsed": 416,
          "status": "ok",
          "timestamp": 1588016485111,
          "user": {
            "displayName": "",
            "photoUrl": "",
            "userId": ""
          },
          "user_tz": 420
        },
        "id": "vKrc6XMV9ErS",
        "outputId": "13f74094-e43e-4267-9055-f3d55d58ae53"
      },
      "outputs": [
        {
          "name": "stdout",
          "output_type": "stream",
          "text": [
            "x0:\n",
            "[ 1  2  3  4  5  6  7  8  9 10]\n",
            "\n",
            "x1:\n",
            "[11 12 13 14 15 16 17 18 19 20]\n",
            "\n",
            "gcd((x0, x1)):\n",
            "[ 1  2  1  2  5  2  1  2  1 10]\n"
          ]
        }
      ],
      "source": [
        "# Define new layer type.\n",
        "def Gcd():\n",
        "  \"\"\"Returns a layer to compute the greatest common divisor, elementwise.\"\"\"\n",
        "  return tl.Fn('Gcd', lambda x0, x1: jnp.gcd(x0, x1))\n",
        "\n",
        "# Use it.\n",
        "gcd = Gcd()\n",
        "\n",
        "x0 = np.array([1, 2, 3, 4, 5, 6, 7, 8, 9, 10])\n",
        "x1 = np.array([11, 12, 13, 14, 15, 16, 17, 18, 19, 20])\n",
        "\n",
        "y = gcd((x0, x1))\n",
        "\n",
        "print(f'x0:\\n{x0}\\n\\n'\n",
        "      f'x1:\\n{x1}\\n\\n'\n",
        "      f'gcd((x0, x1)):\\n{y}')"
      ]
    },
    {
      "cell_type": "markdown",
      "metadata": {
        "colab_type": "text",
        "id": "2lCjml7SCR-u"
      },
      "source": [
        "### Example 8. `Fn` with multiple outputs:"
      ]
    },
    {
      "cell_type": "code",
      "execution_count": 0,
      "metadata": {
        "colab": {
          "height": 204
        },
        "colab_type": "code",
        "executionInfo": {
          "elapsed": 307,
          "status": "ok",
          "timestamp": 1588016485442,
          "user": {
            "displayName": "",
            "photoUrl": "",
            "userId": ""
          },
          "user_tz": 420
        },
        "id": "rfnA2B9ZczWK",
        "outputId": "9ffd7648-ffda-453e-b88b-4aa4ba8ea482"
      },
      "outputs": [
        {
          "name": "stdout",
          "output_type": "stream",
          "text": [
            "x0:\n",
            "[1 2 3 4 5]\n",
            "\n",
            "x1:\n",
            "[10 20 30 40 50]\n",
            "\n",
            "y0:\n",
            "[11 22 33 44 55]\n",
            "\n",
            "y1:\n",
            "[10 20 30 40 50]\n"
          ]
        }
      ],
      "source": [
        "# Define new layer type.\n",
        "def SumAndMax():\n",
        "  \"\"\"Returns a layer to compute sums and maxima of two input tensors.\"\"\"\n",
        "  return tl.Fn('SumAndMax',\n",
        "               lambda x0, x1: (x0 + x1, jnp.maximum(x0, x1)),\n",
        "               n_out=2)\n",
        "\n",
        "# Use it.\n",
        "sum_and_max = SumAndMax()\n",
        "\n",
        "x0 = np.array([1, 2, 3, 4, 5])\n",
        "x1 = np.array([10, 20, 30, 40, 50])\n",
        "\n",
        "y0, y1 = sum_and_max([x0, x1])\n",
        "\n",
        "print(f'x0:\\n{x0}\\n\\n'\n",
        "      f'x1:\\n{x1}\\n\\n'\n",
        "      f'y0:\\n{y0}\\n\\n'\n",
        "      f'y1:\\n{y1}')"
      ]
    },
    {
      "cell_type": "markdown",
      "metadata": {
        "colab_type": "text",
        "id": "GrXQUSbKDs41"
      },
      "source": [
        "### Example 9. Use `Fn` to define a configurable layer:"
      ]
    },
    {
      "cell_type": "code",
      "execution_count": 0,
      "metadata": {
        "colab": {
          "height": 374
        },
        "colab_type": "code",
        "executionInfo": {
          "elapsed": 312,
          "status": "ok",
          "timestamp": 1588016485766,
          "user": {
            "displayName": "",
            "photoUrl": "",
            "userId": ""
          },
          "user_tz": 420
        },
        "id": "h1KwpmFpEIK3",
        "outputId": "9f6e7009-04a0-46c9-b005-35c091f720eb"
      },
      "outputs": [
        {
          "name": "stdout",
          "output_type": "stream",
          "text": [
            "x:\n",
            "[[[  1   2   3]\n",
            "  [ 10  20  30]\n",
            "  [100 200 300]]\n",
            "\n",
            " [[  4   5   6]\n",
            "  [ 40  50  60]\n",
            "  [400 500 600]]]\n",
            "\n",
            "flatten_keep_1_axis(x):\n",
            "[[  1   2   3  10  20  30 100 200 300]\n",
            " [  4   5   6  40  50  60 400 500 600]]\n",
            "\n",
            "flatten_keep_2_axes(x):\n",
            "[[[  1   2   3]\n",
            "  [ 10  20  30]\n",
            "  [100 200 300]]\n",
            "\n",
            " [[  4   5   6]\n",
            "  [ 40  50  60]\n",
            "  [400 500 600]]]\n"
          ]
        }
      ],
      "source": [
        "# Function defined in trax/layers/core.py:\n",
        "def Flatten(n_axes_to_keep=1):\n",
        "  layer_name = f'Flatten_keep{n_axes_to_keep}'\n",
        "  def f(x):  # pylint: disable=invalid-name\n",
        "    in_rank = len(x.shape)\n",
        "    if in_rank \u003c= n_axes_to_keep:\n",
        "      raise ValueError(f'Input rank ({in_rank}) must exceed the number of '\n",
        "                       f'axes to keep ({n_axes_to_keep}) after flattening.')\n",
        "    return jnp.reshape(x, (x.shape[:n_axes_to_keep] + (-1,)))\n",
        "  return tl.Fn(layer_name, f)\n",
        "\n",
        "flatten_keep_1_axis = Flatten(n_axes_to_keep=1)\n",
        "flatten_keep_2_axes = Flatten(n_axes_to_keep=2)\n",
        "\n",
        "x = np.array([[[1, 2, 3],\n",
        "               [10, 20, 30],\n",
        "               [100, 200, 300]],\n",
        "              [[4, 5, 6],\n",
        "               [40, 50, 60],\n",
        "               [400, 500, 600]]])\n",
        "\n",
        "y1 = flatten_keep_1_axis(x)\n",
        "y2 = flatten_keep_2_axes(x)\n",
        "\n",
        "print(f'x:\\n{x}\\n\\n'\n",
        "      f'flatten_keep_1_axis(x):\\n{y1}\\n\\n'\n",
        "      f'flatten_keep_2_axes(x):\\n{y2}')\n",
        "\n"
      ]
    },
    {
      "cell_type": "markdown",
      "metadata": {
        "colab_type": "text",
        "id": "cqM6WJwNhoHI"
      },
      "source": [
        "## Full subclass definitions, where necessary"
      ]
    },
    {
      "cell_type": "markdown",
      "metadata": {
        "colab_type": "text",
        "id": "llAH3cdE1UeU"
      },
      "source": [
        "# 5. Models"
      ]
    }
  ],
  "metadata": {
    "colab": {
      "collapsed_sections": [],
      "last_runtime": {
        "build_target": "//learning/deepmind/dm_python:dm_notebook3",
        "kind": "private"
      },
      "name": "A Conceptual, Practical Introduction to Trax Layers",
      "provenance": [
        {
          "file_id": "1sF8QbqJ19ZU6oy5z4GUTt4lgUCjqO6kt",
          "timestamp": 1569980697572
        },
        {
          "file_id": "1EH76AWQ_pvT4i8ZXfkv-SCV4MrmllEl5",
          "timestamp": 1563927451951
        }
      ]
    },
    "kernelspec": {
      "display_name": "Python 3",
      "name": "python3"
    }
  },
  "nbformat": 4,
  "nbformat_minor": 0
}
